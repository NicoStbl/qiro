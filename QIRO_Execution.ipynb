{
 "cells": [
  {
   "cell_type": "code",
   "execution_count": 47,
   "metadata": {},
   "outputs": [
    {
     "name": "stdout",
     "output_type": "stream",
     "text": [
      "The autoreload extension is already loaded. To reload it, use:\n",
      "  %reload_ext autoreload\n"
     ]
    }
   ],
   "source": [
    "# load the module\n",
    "%load_ext autoreload\n",
    "%autoreload 2"
   ]
  },
  {
   "cell_type": "code",
   "execution_count": 48,
   "metadata": {},
   "outputs": [],
   "source": [
    "import Generating_Problems as Generator\n",
    "import RQAOA\n",
    "import QIRO_MAX_2_SAT"
   ]
  },
  {
   "cell_type": "code",
   "execution_count": null,
   "metadata": {},
   "outputs": [],
   "source": []
  },
  {
   "cell_type": "code",
   "execution_count": 58,
   "metadata": {},
   "outputs": [],
   "source": [
    "# Generate Max-2-SAT problem for RQAOA\n",
    "num_var=20\n",
    "num_clauses=40\n",
    "generated_problem_RQAOA = Generator.MAX2SAT(num_var=num_var, num_clauses=num_clauses)\n"
   ]
  },
  {
   "cell_type": "code",
   "execution_count": 59,
   "metadata": {},
   "outputs": [],
   "source": [
    "# RQAOA\n",
    "nc = 3\n",
    "RQ = RQAOA.RQAOA(problem_input=generated_problem_RQAOA, nc=nc, type_of_problem = \"MAX_2_SAT\")\n",
    "E, solution = RQ.execute()"
   ]
  },
  {
   "cell_type": "code",
   "execution_count": null,
   "metadata": {},
   "outputs": [],
   "source": []
  },
  {
   "cell_type": "code",
   "execution_count": 60,
   "metadata": {},
   "outputs": [],
   "source": [
    "# Generate Max-2-SAT problem for QIRO\n",
    "num_var=20\n",
    "num_clauses=40\n",
    "generated_problem_QIRO = Generator.MAX2SAT(num_var=num_var, num_clauses=num_clauses)"
   ]
  },
  {
   "cell_type": "code",
   "execution_count": 61,
   "metadata": {},
   "outputs": [],
   "source": [
    "# Execute QIRO Max-2-SAT algorithm with or without backtracking (BT)\n",
    "BT = False\n",
    "nc = 3\n",
    "E_best_backtrack, E_first, first_solution, improved_backtrack_solution = \\\n",
    "QIRO_MAX_2_SAT.QIRO_BT_execute(nc=nc, generated_problem=generated_problem_QIRO, BT=BT)"
   ]
  },
  {
   "cell_type": "code",
   "execution_count": null,
   "metadata": {},
   "outputs": [],
   "source": []
  }
 ],
 "metadata": {
  "kernelspec": {
   "display_name": "Python [conda env:tensorflow] *",
   "language": "python",
   "name": "conda-env-tensorflow-py"
  },
  "language_info": {
   "codemirror_mode": {
    "name": "ipython",
    "version": 3
   },
   "file_extension": ".py",
   "mimetype": "text/x-python",
   "name": "python",
   "nbconvert_exporter": "python",
   "pygments_lexer": "ipython3",
   "version": "3.8.5"
  }
 },
 "nbformat": 4,
 "nbformat_minor": 4
}
